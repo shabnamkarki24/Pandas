{
 "cells": [
  {
   "cell_type": "code",
   "execution_count": 1,
   "id": "a1dba7a6-06ee-4762-9c53-4000abf7ed10",
   "metadata": {},
   "outputs": [
    {
     "name": "stdout",
     "output_type": "stream",
     "text": [
      "       car  passing\n",
      "0     Ford        3\n",
      "1      BMW        4\n",
      "2  Hyundai        5\n"
     ]
    }
   ],
   "source": [
    "import pandas as pd\n",
    "\n",
    "mydataset={\n",
    "    'car':[\"Ford\", \"BMW\", \"Hyundai\"],\n",
    "    'passing':[3, 4,5]\n",
    "}\n",
    "mycar= pd.DataFrame(mydataset)\n",
    "print(mycar)"
   ]
  },
  {
   "cell_type": "markdown",
   "id": "473802be-8ff2-4468-9709-a74512b6cafd",
   "metadata": {},
   "source": [
    "## ggg"
   ]
  },
  {
   "cell_type": "code",
   "execution_count": 2,
   "id": "708714f5-f417-4c87-b58e-b21476b6757d",
   "metadata": {},
   "outputs": [
    {
     "name": "stdout",
     "output_type": "stream",
     "text": [
      "      dog friends\n",
      "0  Munmun  Simona\n",
      "1  Floppy  Smriti\n",
      "2   jimmy   Kriti\n"
     ]
    }
   ],
   "source": [
    "import pandas as pd\n",
    "\n",
    "newdataset={\n",
    "    'dog':[\"Munmun\", \"Floppy\", \"jimmy\"],\n",
    "    'friends':[\"Simona\", \"Smriti\", \"Kriti\"]\n",
    "}\n",
    "dataset=pd.DataFrame(newdataset)\n",
    "print(dataset)"
   ]
  },
  {
   "cell_type": "code",
   "execution_count": 3,
   "id": "db6b813e-50eb-47a4-be7c-b0e4dfebd235",
   "metadata": {},
   "outputs": [
    {
     "name": "stdout",
     "output_type": "stream",
     "text": [
      "CSV file created successfully\n"
     ]
    }
   ],
   "source": [
    "import pandas as pd\n",
    "\n",
    "newdataset={\n",
    "    'country':[\"America\", \"France\", \"Italy\", \"Switzerland\", \"Greece\", \"Vietnam\"],\n",
    "    'Color':[\"Red\", \"Green\", \"Pink\", \"Yellow\", \"Blue\", \"Sage Green\"],\n",
    "    'City':[\"Newyork\", \"Chicago\", \"Nashville\", \"Colorado\", \"Florida\", \"Los Angeles\"]\n",
    "\n",
    "}\n",
    "df=pd.DataFrame(newdataset)\n",
    "df.to_csv(\"data_newnew.csv\", index=False)\n",
    "print(\"CSV file created successfully\")\n"
   ]
  },
  {
   "cell_type": "code",
   "execution_count": 4,
   "id": "6c97e4db-e32d-4ce8-a299-fa967d5ff88d",
   "metadata": {},
   "outputs": [
    {
     "name": "stdout",
     "output_type": "stream",
     "text": [
      "2.1.4\n"
     ]
    }
   ],
   "source": [
    "import pandas as pd\n",
    "print(pd.__version__)"
   ]
  },
  {
   "cell_type": "code",
   "execution_count": 5,
   "id": "d9a7cccc-9337-46fc-bee8-ac5efdc6233c",
   "metadata": {},
   "outputs": [
    {
     "name": "stdout",
     "output_type": "stream",
     "text": [
      "0    1\n",
      "1    3\n",
      "2    4\n",
      "3   -6\n",
      "dtype: int64\n"
     ]
    }
   ],
   "source": [
    "import pandas as pd\n",
    "a=[1,3,4,-6]\n",
    "myvar=pd.Series(a)\n",
    "print(myvar)"
   ]
  },
  {
   "cell_type": "code",
   "execution_count": 6,
   "id": "e275b79b-5169-4ff1-9f07-3e9b976305a8",
   "metadata": {},
   "outputs": [
    {
     "name": "stdout",
     "output_type": "stream",
     "text": [
      "0    0\n",
      "1    1\n",
      "2    1\n",
      "3    0\n",
      "4    1\n",
      "5    1\n",
      "dtype: int64\n"
     ]
    }
   ],
   "source": [
    "import pandas as pd\n",
    "a=[0,1,1,0,1,1]\n",
    "mylist=pd.Series(a)\n",
    "print(mylist)"
   ]
  },
  {
   "cell_type": "code",
   "execution_count": 7,
   "id": "1ba51a3f-4f94-48f4-882f-317fea852ec9",
   "metadata": {},
   "outputs": [
    {
     "name": "stdout",
     "output_type": "stream",
     "text": [
      "a    10\n",
      "b    20\n",
      "c    30\n",
      "d    40\n",
      "e    50\n",
      "f    60\n",
      "g    70\n",
      "h    80\n",
      "dtype: int64\n"
     ]
    }
   ],
   "source": [
    "data=[10,20,30,40,50,60,70,80]\n",
    "s=pd.Series(data, index=[\"a\", \"b\", \"c\", \"d\", \"e\", \"f\", \"g\", \"h\"])\n",
    "print(s)"
   ]
  },
  {
   "cell_type": "code",
   "execution_count": 8,
   "id": "62bf64fc-d970-4c66-aaa5-c5754a8389b0",
   "metadata": {},
   "outputs": [
    {
     "name": "stdout",
     "output_type": "stream",
     "text": [
      "s     2\n",
      "h     3\n",
      "a    45\n",
      "b     6\n",
      "n     7\n",
      "a     8\n",
      "m     9\n",
      "dtype: int64\n"
     ]
    }
   ],
   "source": [
    "data=[2,3,45,6,7,8,9]\n",
    "s=pd.Series(data, index=[\"s\", \"h\", \"a\", \"b\", \"n\", \"a\", \"m\"])\n",
    "print(s)"
   ]
  },
  {
   "cell_type": "code",
   "execution_count": 9,
   "id": "d6ab4dde-f787-4901-9f1f-fee21a9c7593",
   "metadata": {},
   "outputs": [
    {
     "name": "stdout",
     "output_type": "stream",
     "text": [
      "   calories  duration\n",
      "0       430        50\n",
      "1       230        88\n",
      "2       444        99\n",
      "3       111       100\n",
      "<class 'pandas.core.frame.DataFrame'>\n",
      "RangeIndex: 4 entries, 0 to 3\n",
      "Data columns (total 2 columns):\n",
      " #   Column    Non-Null Count  Dtype\n",
      "---  ------    --------------  -----\n",
      " 0   calories  4 non-null      int64\n",
      " 1   duration  4 non-null      int64\n",
      "dtypes: int64(2)\n",
      "memory usage: 196.0 bytes\n"
     ]
    }
   ],
   "source": [
    "import pandas as pd\n",
    "data={\n",
    "    \"calories\":[430, 230, 444, 111],\n",
    "    \"duration\":[50,88,99,100]\n",
    "}\n",
    "df=pd.DataFrame(data)\n",
    "print(df)\n",
    "df.shape\n",
    "df.info()"
   ]
  },
  {
   "cell_type": "code",
   "execution_count": 10,
   "id": "a80d1e2f-ff51-4314-9c17-4a694cddb6e4",
   "metadata": {},
   "outputs": [
    {
     "name": "stdout",
     "output_type": "stream",
     "text": [
      "1       Newyork\n",
      "2      Colorado\n",
      "3        Kansas\n",
      "4       Florida\n",
      "5    California\n",
      "dtype: object\n"
     ]
    }
   ],
   "source": [
    "import pandas as pd\n",
    "\n",
    "data=[\"Newyork\", \"Colorado\", \"Kansas\", \"Florida\", \"California\"]\n",
    "cities=pd.Series(data, index=[1,2,3,4,5])\n",
    "print(cities)"
   ]
  },
  {
   "cell_type": "code",
   "execution_count": 13,
   "id": "33018113-a1b8-4cd6-9103-4b1b0d174273",
   "metadata": {},
   "outputs": [
    {
     "name": "stdout",
     "output_type": "stream",
     "text": [
      "       City  color\n",
      "0   Newyork    Red\n",
      "1  Colorado   Pink\n",
      "2   Florida  Green\n"
     ]
    },
    {
     "data": {
      "text/plain": [
       "(3, 2)"
      ]
     },
     "execution_count": 13,
     "metadata": {},
     "output_type": "execute_result"
    }
   ],
   "source": [
    "import pandas as pd\n",
    "dataset= {\n",
    "    'City':[\"Newyork\", \"Colorado\", \"Florida\"],\n",
    "    'color':[\"Red\", \"Pink\", \"Green\"]\n",
    "}\n",
    "df=pd.DataFrame(dataset)\n",
    "print(df)\n",
    "df.shape\n"
   ]
  },
  {
   "cell_type": "code",
   "execution_count": null,
   "id": "8593f3ad-c046-464f-87a9-632b3fe4ae69",
   "metadata": {},
   "outputs": [],
   "source": [
    "import pandas as pd\n",
    "df=pd.read_csv(\"csv_data/data.csv\")\n",
    "print(df)"
   ]
  },
  {
   "cell_type": "code",
   "execution_count": null,
   "id": "1732f24f-e24a-4a60-8b1f-08c45c5b2319",
   "metadata": {},
   "outputs": [],
   "source": [
    "import pandas as pd\n",
    "df=pd.read_csv(r\"C:\\Users\\shabn\\Downloads\\data.csv\")\n",
    "print(df)"
   ]
  },
  {
   "cell_type": "code",
   "execution_count": 14,
   "id": "d8ade5f7-a8fb-4337-a501-7dde1d2e0232",
   "metadata": {},
   "outputs": [
    {
     "name": "stdout",
     "output_type": "stream",
     "text": [
      "   Age    Color\n",
      "0   21      Red\n",
      "1   22     Pink\n",
      "2   28    Black\n",
      "3   35   Orange\n",
      "4   23    Brown\n"
     ]
    }
   ],
   "source": [
    "import pandas as pd\n",
    "df=pd.read_csv(\"csv_data/data.csv\", usecols=[\"Age\", \"Color\"])\n",
    "print(df)\n"
   ]
  },
  {
   "cell_type": "code",
   "execution_count": null,
   "id": "3d40884b-ab23-4787-a073-b469bed16451",
   "metadata": {},
   "outputs": [],
   "source": [
    "import pandas as pd\n",
    "df=pd.read_csv(r\"C:\\Users\\shabn\\Downloads\\data.csv\", index_col=\"Name\")\n",
    "print(df)"
   ]
  },
  {
   "cell_type": "code",
   "execution_count": null,
   "id": "8fb53052-ec5c-400d-9e35-180d17d59a05",
   "metadata": {},
   "outputs": [],
   "source": [
    "#reading liminted rows\n",
    "import pandas as pd\n",
    "df=pd.read_csv(r\"C:\\Users\\shabn\\Downloads\\data.csv\", nrows=3)\n",
    "print(df)"
   ]
  },
  {
   "cell_type": "code",
   "execution_count": null,
   "id": "f9c1dd73-42b1-44d3-af84-95c6703b5ed3",
   "metadata": {},
   "outputs": [],
   "source": [
    "import pandas as pd\n",
    "df=pd.read_csv(r\"C:\\Users\\shabn\\Downloads\\data.csv\", usecols=[\"Color\"])\n",
    "print(df)"
   ]
  },
  {
   "cell_type": "code",
   "execution_count": null,
   "id": "219897f5-04c6-484a-b67f-13131ff27301",
   "metadata": {},
   "outputs": [],
   "source": [
    "import pandas as pd\n",
    "df=pd.read_csv(r\"C:\\Users\\shabn\\Downloads\\data.csv\", skiprows=1)\n",
    "print(df)"
   ]
  },
  {
   "cell_type": "code",
   "execution_count": null,
   "id": "77e26b58-3bf0-4135-9447-ef79279f2475",
   "metadata": {},
   "outputs": [],
   "source": [
    "#handling missing values:\n",
    "import pandas as pd\n",
    "df=pd.read_csv(r\"C:\\Users\\shabn\\Downloads\\data.csv\", na_values=[\"NA\", \",Missing\"])\n",
    "\n",
    "print(df)"
   ]
  },
  {
   "cell_type": "code",
   "execution_count": null,
   "id": "65c5d914-d19a-45ee-836a-078f2fb6ca22",
   "metadata": {},
   "outputs": [],
   "source": [
    "import pandas as pd\n",
    "df=pd.read_csv(r\"C:\\Users\\shabn\\Downloads\\student.csv\")\n",
    "print(df)\n"
   ]
  },
  {
   "cell_type": "code",
   "execution_count": null,
   "id": "265a6b16-fd93-4098-ac8c-cf2f13898e74",
   "metadata": {},
   "outputs": [],
   "source": [
    "import pandas as pd\n",
    "df=pd.read_csv(r\"C:\\Users\\shabn\\Downloads\\student.csv\")\n",
    "df['total'] = df['Math'] + df['Science'] + df['English']\n",
    "print(df)"
   ]
  },
  {
   "cell_type": "code",
   "execution_count": null,
   "id": "4da4168e-de03-421e-9d4f-d9393f784db7",
   "metadata": {},
   "outputs": [],
   "source": [
    "import pandas as pd\n",
    "df=pd.read_csv(r\"C:\\Users\\shabn\\Downloads\\student.csv\")\n",
    "df['Total']=df[['Math', 'Science', 'English']].sum(axis=1)\n",
    "df['Average']=df['Total']/3\n",
    "print(df)\n"
   ]
  },
  {
   "cell_type": "code",
   "execution_count": null,
   "id": "176f5ea4-9bd5-4fed-9368-a2e8a0475f06",
   "metadata": {},
   "outputs": [],
   "source": [
    "import pandas as pd\n",
    "df=pd.read_csv(r\"C:\\Users\\shabn\\Downloads\\student.csv\")\n",
    "df['Total']=df[['Math', 'Science', 'English']].sum(axis=1)\n",
    "df['Average']=df['Total']/3\n",
    "top_students=df.nlargest(2,'Total')\n",
    "print(top_students)\n"
   ]
  },
  {
   "cell_type": "code",
   "execution_count": 15,
   "id": "c02b2f8a-2d22-40da-8d1a-f05e0ed16095",
   "metadata": {},
   "outputs": [
    {
     "name": "stdout",
     "output_type": "stream",
     "text": [
      "      Name  Math  Science  English  Total\n",
      "0    Alice    85       90       78    253\n",
      "1      Bob    76       85       88    249\n",
      "2  Charlie    90       92       95    277\n",
      "3    David    65       70       60    195\n",
      "4      Eve    88       80       85    253\n"
     ]
    }
   ],
   "source": [
    "import pandas as pd\n",
    "df=pd.read_csv(r\"C:\\Users\\shabn\\Downloads\\student.csv\")\n",
    "df['Total']=df['Math'] + df['Science'] + df['English']\n",
    "print(df)"
   ]
  },
  {
   "cell_type": "code",
   "execution_count": null,
   "id": "a6416ad7-722a-445a-a6c4-7da796cdb387",
   "metadata": {},
   "outputs": [],
   "source": []
  }
 ],
 "metadata": {
  "kernelspec": {
   "display_name": "Python 3 (ipykernel)",
   "language": "python",
   "name": "python3"
  },
  "language_info": {
   "codemirror_mode": {
    "name": "ipython",
    "version": 3
   },
   "file_extension": ".py",
   "mimetype": "text/x-python",
   "name": "python",
   "nbconvert_exporter": "python",
   "pygments_lexer": "ipython3",
   "version": "3.11.7"
  }
 },
 "nbformat": 4,
 "nbformat_minor": 5
}
